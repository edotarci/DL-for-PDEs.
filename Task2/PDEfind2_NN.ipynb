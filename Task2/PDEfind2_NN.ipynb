{
 "cells": [
  {
   "cell_type": "markdown",
   "metadata": {},
   "source": [
    "# PDEfind for dataset 2 using NNs"
   ]
  },
  {
   "cell_type": "code",
   "execution_count": 1,
   "metadata": {},
   "outputs": [],
   "source": [
    "import torch\n",
    "import numpy as np\n",
    "import matplotlib.pyplot as plt\n",
    "from aux_for_PDE_find import *\n",
    "import torch.nn as nn\n",
    "import torch.nn.functional as F\n",
    "from torch.utils.data import DataLoader, TensorDataset\n",
    "from torch.optim import AdamW\n",
    "\n",
    "torch.manual_seed(0)\n",
    "np.random.seed(0)\n",
    "\n",
    "class MLP(nn.Module):\n",
    "    def __init__(self, input_dim=2, hidden_dim=16, output_dim=1, num_layers=2):\n",
    "        super(MLP, self).__init__()\n",
    "        self.input_dim = input_dim\n",
    "        self.hidden_dim = hidden_dim\n",
    "        self.output_dim = output_dim\n",
    "        self.num_layers = num_layers\n",
    "\n",
    "        self.input_layer = nn.Linear(input_dim, hidden_dim)\n",
    "        self.hidden_layers = nn.ModuleList([nn.Linear(hidden_dim, hidden_dim) for _ in range(num_layers - 1)])\n",
    "        self.output_layer = nn.Linear(hidden_dim, output_dim)\n",
    "\n",
    "        self.activation = nn.GELU()\n",
    "\n",
    "    def forward(self, inputs):\n",
    "        out = self.activation(self.input_layer(inputs))\n",
    "        for layer in self.hidden_layers:\n",
    "            out = self.activation(layer(out))\n",
    "        out = self.output_layer(out)\n",
    "        return out\n"
   ]
  },
  {
   "cell_type": "markdown",
   "metadata": {},
   "source": [
    "## Dataset preparation"
   ]
  },
  {
   "cell_type": "code",
   "execution_count": 2,
   "metadata": {},
   "outputs": [],
   "source": [
    "path_train = \"PDEfind_data/2.npz\"\n",
    "data_npz = np.load(path_train)\n",
    "\n",
    "# Load the data from the .npz file\n",
    "u = torch.from_numpy(data_npz['u']).type(torch.float32).reshape(-1,1)  # Solution or field\n",
    "u.requires_grad_()\n",
    "x = torch.from_numpy(data_npz['x']).type(torch.float32).reshape(-1,1)  # Spatial variable\n",
    "x.requires_grad_()\n",
    "t = torch.from_numpy(data_npz['t']).type(torch.float32).reshape(-1,1)   # Temporal variable\n",
    "t.requires_grad_()\n",
    "\n",
    "model = MLP()"
   ]
  },
  {
   "cell_type": "code",
   "execution_count": 3,
   "metadata": {},
   "outputs": [
    {
     "name": "stdout",
     "output_type": "stream",
     "text": [
      "######### Epoch: 0  ######### Train Loss (%): 1.27813823414568  ######### relative L2 (%): 65.80382585525513\n",
      "######### Epoch: 1  ######### Train Loss (%): 0.5835614382029877  ######### relative L2 (%): 55.95027804374695\n",
      "######### Epoch: 2  ######### Train Loss (%): 0.37815052140226113  ######### relative L2 (%): 37.78162598609924\n",
      "######### Epoch: 3  ######### Train Loss (%): 0.11679946418648322  ######### relative L2 (%): 19.210925698280334\n",
      "######### Epoch: 4  ######### Train Loss (%): 0.04223502547751223  ######### relative L2 (%): 9.880047291517258\n",
      "######### Epoch: 5  ######### Train Loss (%): 0.01820981300833278  ######### relative L2 (%): 10.477690398693085\n",
      "######### Epoch: 6  ######### Train Loss (%): 0.015026255764790572  ######### relative L2 (%): 11.86542734503746\n",
      "######### Epoch: 7  ######### Train Loss (%): 0.009988786342858734  ######### relative L2 (%): 5.817069113254547\n",
      "######### Epoch: 8  ######### Train Loss (%): 0.019796219003273566  ######### relative L2 (%): 5.923347920179367\n",
      "######### Epoch: 9  ######### Train Loss (%): 0.008902508874037342  ######### relative L2 (%): 11.71686053276062\n",
      "######### Epoch: 10  ######### Train Loss (%): 0.00926029505675823  ######### relative L2 (%): 4.469256103038788\n",
      "######### Epoch: 11  ######### Train Loss (%): 0.013091032095378716  ######### relative L2 (%): 6.335318088531494\n",
      "######### Epoch: 12  ######### Train Loss (%): 0.00830434677599763  ######### relative L2 (%): 15.118548274040222\n",
      "######### Epoch: 13  ######### Train Loss (%): 0.008044325416978691  ######### relative L2 (%): 7.71532878279686\n",
      "######### Epoch: 14  ######### Train Loss (%): 0.006733369525195191  ######### relative L2 (%): 6.005746126174927\n",
      "######### Epoch: 15  ######### Train Loss (%): 0.006028624086038282  ######### relative L2 (%): 2.6111572980880737\n",
      "######### Epoch: 16  ######### Train Loss (%): 0.005823378385241483  ######### relative L2 (%): 4.531298577785492\n",
      "######### Epoch: 17  ######### Train Loss (%): 0.004838412672400938  ######### relative L2 (%): 6.261333078145981\n",
      "######### Epoch: 18  ######### Train Loss (%): 0.008785716002068457  ######### relative L2 (%): 2.616894617676735\n",
      "######### Epoch: 19  ######### Train Loss (%): 0.0038782049954878047  ######### relative L2 (%): 9.456675499677658\n",
      "######### Epoch: 20  ######### Train Loss (%): 0.00500477846993754  ######### relative L2 (%): 2.3454729467630386\n",
      "######### Epoch: 21  ######### Train Loss (%): 0.005277193293236745  ######### relative L2 (%): 3.7910204380750656\n",
      "######### Epoch: 22  ######### Train Loss (%): 0.005309821089081853  ######### relative L2 (%): 5.067982524633408\n",
      "######### Epoch: 23  ######### Train Loss (%): 0.002418055711150283  ######### relative L2 (%): 8.80511999130249\n",
      "######### Epoch: 24  ######### Train Loss (%): 0.004437394783625999  ######### relative L2 (%): 2.2561972960829735\n",
      "######### Epoch: 25  ######### Train Loss (%): 0.004333626286925617  ######### relative L2 (%): 2.1209876984357834\n",
      "######### Epoch: 26  ######### Train Loss (%): 0.00435564056115978  ######### relative L2 (%): 6.10479898750782\n",
      "######### Epoch: 27  ######### Train Loss (%): 0.0018959652482575693  ######### relative L2 (%): 16.89959466457367\n",
      "######### Epoch: 28  ######### Train Loss (%): 0.007540104693656197  ######### relative L2 (%): 1.5898458659648895\n",
      "######### Epoch: 29  ######### Train Loss (%): 0.0016754414615156995  ######### relative L2 (%): 3.709965944290161\n",
      "######### Epoch: 30  ######### Train Loss (%): 0.004923473267437694  ######### relative L2 (%): 2.772468514740467\n",
      "######### Epoch: 31  ######### Train Loss (%): 0.004444930744678309  ######### relative L2 (%): 2.112840674817562\n",
      "######### Epoch: 32  ######### Train Loss (%): 0.0018689673490497902  ######### relative L2 (%): 2.2249573841691017\n",
      "######### Epoch: 33  ######### Train Loss (%): 0.003225690850862819  ######### relative L2 (%): 2.6640187948942184\n",
      "######### Epoch: 34  ######### Train Loss (%): 0.0017284224682824253  ######### relative L2 (%): 4.214287549257278\n",
      "######### Epoch: 35  ######### Train Loss (%): 0.0039343487717484835  ######### relative L2 (%): 0.9860817342996597\n"
     ]
    }
   ],
   "source": [
    "\n",
    "batch_size = 256\n",
    "\n",
    "training_set = DataLoader(TensorDataset(u,x,t), batch_size=batch_size, shuffle=True)\n",
    "\n",
    "\n",
    "learning_rate = 0.01\n",
    "epochs = 100\n",
    "step_size = 50\n",
    "gamma = 0.5\n",
    "optimizer = AdamW(model.parameters(), lr=learning_rate, weight_decay=1e-4)\n",
    "scheduler = torch.optim.lr_scheduler.StepLR(optimizer, step_size=step_size, gamma=gamma)\n",
    "\n",
    "l = torch.nn.MSELoss()\n",
    "freq_print = 1\n",
    "for epoch in range(epochs):\n",
    "    train_mse = 0.0\n",
    "    for step, (u_train,x_train,t_train) in enumerate(training_set):\n",
    "        inputs = torch.cat([x_train,t_train],dim=1)\n",
    "        optimizer.zero_grad()\n",
    "        u_pred = model(inputs)\n",
    "        loss_f = l(u_pred, u_train)\n",
    "        loss_f.backward()\n",
    "        optimizer.step()\n",
    "        train_mse += loss_f.item()\n",
    "    train_mse /= len(training_set)\n",
    "\n",
    "    scheduler.step()\n",
    "\n",
    "    if epoch % freq_print == 0:\n",
    "        model.eval()\n",
    "        with torch.no_grad():\n",
    "            input_nn = torch.cat([x,t],dim=1)\n",
    "            u_nn = model(input_nn)\n",
    "            error = (torch.norm(u-u_nn,p=2)/torch.norm(u,p=2)).item()\n",
    "            print(\"######### Epoch:\", epoch, \" ######### Train Loss (%):\", train_mse*100, \" ######### relative L2 (%):\", error*100)\n",
    "        if error*100 < 1:\n",
    "            break\n",
    "    if error*100 < 1:\n",
    "            break\n",
    "\n",
    "\n"
   ]
  },
  {
   "cell_type": "code",
   "execution_count": 4,
   "metadata": {},
   "outputs": [
    {
     "name": "stderr",
     "output_type": "stream",
     "text": [
      "/var/folders/2c/01bhfspx2hj56fb5ryg654lr0000gn/T/ipykernel_25349/2330747238.py:4: FutureWarning: You are using `torch.load` with `weights_only=False` (the current default value), which uses the default pickle module implicitly. It is possible to construct malicious pickle data which will execute arbitrary code during unpickling (See https://github.com/pytorch/pytorch/blob/main/SECURITY.md#untrusted-models for more details). In a future release, the default value for `weights_only` will be flipped to `True`. This limits the functions that could be executed during unpickling. Arbitrary objects will no longer be allowed to be loaded via this mode unless they are explicitly allowlisted by the user via `torch.serialization.add_safe_globals`. We recommend you start setting `weights_only=True` for any use case where you don't have full control of the loaded file. Please open an issue on GitHub for any issues related to this experimental feature.\n",
      "  model.load_state_dict(torch.load(\"model_params_PDE2NN.pth\"))\n"
     ]
    },
    {
     "data": {
      "text/plain": [
       "<All keys matched successfully>"
      ]
     },
     "execution_count": 4,
     "metadata": {},
     "output_type": "execute_result"
    }
   ],
   "source": [
    "# Save the model parameters\n",
    "#torch.save(model.state_dict(), \"model_params_PDE2NN.pth\")\n",
    "# Load the parameters into the model\n",
    "model.load_state_dict(torch.load(\"model_params_PDE2NN.pth\"))\n",
    "\n"
   ]
  },
  {
   "cell_type": "markdown",
   "metadata": {},
   "source": [
    "## Build of $\\Theta$"
   ]
  },
  {
   "cell_type": "code",
   "execution_count": 5,
   "metadata": {},
   "outputs": [],
   "source": [
    "x = x.clone().detach()\n",
    "t = t.clone().detach()\n",
    "\n",
    "input = torch.cat([x,t],dim=1)\n",
    "input.requires_grad = True\n",
    "u_nn = model(input)\n",
    "\n",
    "\n",
    "#compute the derivatives\n",
    "grad_u = torch.autograd.grad(outputs = u_nn, inputs=input, grad_outputs=torch.ones_like(u_nn), create_graph=True, retain_graph=True)[0]\n",
    "dudt = grad_u[:, 1].unsqueeze(-1)\n",
    "dudx = grad_u[:, 0].unsqueeze(-1)\n",
    "dudx_2 = torch.autograd.grad(dudx.sum(), input, create_graph=True, retain_graph=True)[0][:, 0].unsqueeze(-1)\n",
    "dudx_3 = torch.autograd.grad(dudx_2.sum(), input, create_graph=True, retain_graph=True)[0][:, 0].unsqueeze(-1)\n",
    "\n",
    "# Compute other terms\n",
    "u2 = torch.pow(u, 2)\n",
    "u3 = torch.pow(u, 3)  \n",
    "\n",
    "# Compute mixed terms\n",
    "u_times_dudx = torch.mul(u, dudx)\n",
    "u2_times_dudx = torch.mul(u2, dudx)\n",
    "u3_times_dudx = torch.mul(u3, dudx)\n",
    "\n",
    "u_times_dudx_2 = torch.mul(u, dudx_2)\n",
    "u2_times_dudx_2 = torch.mul(u2, dudx_2)\n",
    "u3_times_dudx_2 = torch.mul(u3, dudx_2)\n",
    "\n",
    "u_times_dudx_3 = torch.mul(u, dudx_3)\n",
    "u2_times_dudx_3 = torch.mul(u2, dudx_3)\n",
    "u3_times_dudx_3 = torch.mul(u3, dudx_3)\n",
    "\n",
    "# Compute bias\n",
    "bias = torch.ones_like(u_nn)\n",
    "\n",
    "\n",
    "# Combine all vectors into a single matrix\n",
    "Theta = torch.cat([\n",
    "    bias,               # 0\n",
    "    u,                  # 1\n",
    "    dudx,               # 3\n",
    "    dudx_2,             # 4\n",
    "    dudx_3,             # 5\n",
    "    u2,                 # 6\n",
    "    u3,                 # 7\n",
    "    u_times_dudx,       # 8\n",
    "    u2_times_dudx,      # 9\n",
    "    u3_times_dudx,      # 10\n",
    "    u_times_dudx_2,     # 11\n",
    "    u2_times_dudx_2,    # 12\n",
    "    u3_times_dudx_2,    # 13\n",
    "    u_times_dudx_3,     # 14\n",
    "    u2_times_dudx_3,    # 15\n",
    "    u3_times_dudx_3     # 16\n",
    "], dim=1)\n",
    "\n",
    "# Update Theta names\n",
    "Theta_names = [\n",
    "    \"bias\",             # 0\n",
    "    \"u\",                # 1\n",
    "    \"dudx\",             # 3\n",
    "    \"dudx_2\",           # 4\n",
    "    \"dudx_3\",           # 5\n",
    "    \"u2\",               # 6\n",
    "    \"u3\",               # 7\n",
    "    \"u_times_dudx\",     # 8\n",
    "    \"u2_times_dudx\",    # 9\n",
    "    \"u3_times_dudx\",    # 10\n",
    "    \"u_times_dudx_2\",   # 11\n",
    "    \"u2_times_dudx_2\",  # 12\n",
    "    \"u3_times_dudx_2\",  # 13\n",
    "    \"u_times_dudx_3\",   # 14\n",
    "    \"u2_times_dudx_3\",  # 15\n",
    "    \"u3_times_dudx_3\"   # 16\n",
    "]"
   ]
  },
  {
   "cell_type": "markdown",
   "metadata": {},
   "source": [
    "## Regression and printing of the PDE"
   ]
  },
  {
   "cell_type": "code",
   "execution_count": 6,
   "metadata": {},
   "outputs": [
    {
     "name": "stdout",
     "output_type": "stream",
     "text": [
      "Regression # 1\n",
      "dudx  c=  -0.3833558\n",
      "dudx_3  c=  -0.57645035\n",
      "u_times_dudx  c=  -3.283531\n",
      "Mean Squared Error: 3.2083047699416056e-05\n",
      "###################### end of regression 1 ##############################\n",
      "\n",
      "Regression # 2\n",
      "dudx_3  c=  -0.78951484\n",
      "u_times_dudx  c=  -4.715142\n",
      "Mean Squared Error: 0.00012087886716471985\n",
      "###################### end of regression 2 ##############################\n",
      "\n",
      "Regression # 3\n",
      "dudx_3  c=  -1.0055319\n",
      "u_times_dudx  c=  -5.988321\n",
      "Mean Squared Error: 1.768345282471273e-05\n",
      "###################### end of regression 3 ##############################\n",
      "\n"
     ]
    }
   ],
   "source": [
    "threshold=4\n",
    "alpha = [0.1,0.01, 0.0]\n",
    "Theta_= Theta.detach().numpy()\n",
    "dudt_ = dudt.detach().numpy()\n",
    "selected_names, regression_coef_ = myregression2(Theta_,dudt_,Theta_names,threshold=threshold,alpha=alpha)"
   ]
  },
  {
   "cell_type": "code",
   "execution_count": 7,
   "metadata": {},
   "outputs": [
    {
     "name": "stdout",
     "output_type": "stream",
     "text": [
      "dudt = -1.0055319 * dudx_3 +\n",
      "       -5.988321 * u_times_dudx\n"
     ]
    }
   ],
   "source": [
    "printPDE(selected_names, regression_coef_)"
   ]
  },
  {
   "cell_type": "markdown",
   "metadata": {},
   "source": [
    "# Comparison between derivatives apporximation using FDs adn NNs"
   ]
  },
  {
   "cell_type": "code",
   "execution_count": 8,
   "metadata": {},
   "outputs": [],
   "source": [
    "path_train = \"PDEfind_data/2.npz\"\n",
    "data_npz = np.load(path_train)\n",
    "\n",
    "# Load the data from the .npz file\n",
    "u_ = torch.from_numpy(data_npz['u']).type(torch.float32) # Solution or field\n",
    "x_ = torch.from_numpy(data_npz['x']).type(torch.float32) # Spatial variable\n",
    "t_ = torch.from_numpy(data_npz['t']).type(torch.float32)   # Temporal variable\n",
    "\n",
    "\n",
    "dx = x_[1,0] - x_[0,0]\n",
    "dt = t_[0,1] - t_[0,0]\n",
    "\n",
    "\n",
    "dudx_fd = compute_space_derivative(u_, dx, 1).reshape(-1,1)\n",
    "dudx2_fd = compute_space_derivative(u_, dx, 2).reshape(-1,1)\n",
    "dudx3_fd = compute_space_derivative(u_, dx, 3).reshape(-1,1)\n",
    "dudt_fd = compute_time_derivative(u_, dt).reshape(-1,1)\n",
    "\n"
   ]
  },
  {
   "cell_type": "markdown",
   "metadata": {},
   "source": [
    "### Error in the function"
   ]
  },
  {
   "cell_type": "code",
   "execution_count": 9,
   "metadata": {},
   "outputs": [
    {
     "data": {
      "text/plain": [
       "tensor(0.9861, grad_fn=<MulBackward0>)"
      ]
     },
     "execution_count": 9,
     "metadata": {},
     "output_type": "execute_result"
    }
   ],
   "source": [
    "torch.norm(u_nn - u.reshape(-1,1))/torch.norm(u,p=2)*100"
   ]
  },
  {
   "cell_type": "markdown",
   "metadata": {},
   "source": [
    "### Error in the first derivative in space"
   ]
  },
  {
   "cell_type": "code",
   "execution_count": 10,
   "metadata": {},
   "outputs": [
    {
     "data": {
      "text/plain": [
       "tensor(2.5083, grad_fn=<MulBackward0>)"
      ]
     },
     "execution_count": 10,
     "metadata": {},
     "output_type": "execute_result"
    }
   ],
   "source": [
    "torch.norm(dudx-dudx_fd,p=2)/torch.norm(dudx_fd,p=2)*100"
   ]
  },
  {
   "cell_type": "markdown",
   "metadata": {},
   "source": [
    "### Error in the second derivative in space"
   ]
  },
  {
   "cell_type": "code",
   "execution_count": 11,
   "metadata": {},
   "outputs": [
    {
     "data": {
      "text/plain": [
       "tensor(5.4800, grad_fn=<MulBackward0>)"
      ]
     },
     "execution_count": 11,
     "metadata": {},
     "output_type": "execute_result"
    }
   ],
   "source": [
    "torch.norm(dudx_2-dudx2_fd,p=2)/torch.norm(dudx2_fd,p=2)*100"
   ]
  },
  {
   "cell_type": "markdown",
   "metadata": {},
   "source": [
    "### Error in the third derivative in space"
   ]
  },
  {
   "cell_type": "code",
   "execution_count": 12,
   "metadata": {},
   "outputs": [
    {
     "data": {
      "text/plain": [
       "tensor(10.9865, grad_fn=<MulBackward0>)"
      ]
     },
     "execution_count": 12,
     "metadata": {},
     "output_type": "execute_result"
    }
   ],
   "source": [
    "torch.norm(dudx_3-dudx3_fd,p=2)/torch.norm(dudx3_fd,p=2)*100"
   ]
  },
  {
   "cell_type": "markdown",
   "metadata": {},
   "source": [
    "### Error in the first derivative in time"
   ]
  },
  {
   "cell_type": "code",
   "execution_count": 13,
   "metadata": {},
   "outputs": [
    {
     "data": {
      "text/plain": [
       "tensor(2.4167, grad_fn=<MulBackward0>)"
      ]
     },
     "execution_count": 13,
     "metadata": {},
     "output_type": "execute_result"
    }
   ],
   "source": [
    "torch.norm(dudt-dudt_fd,p=2)/torch.norm(dudt_fd,p=2)*100"
   ]
  }
 ],
 "metadata": {
  "kernelspec": {
   "display_name": "Python 3",
   "language": "python",
   "name": "python3"
  },
  "language_info": {
   "codemirror_mode": {
    "name": "ipython",
    "version": 3
   },
   "file_extension": ".py",
   "mimetype": "text/x-python",
   "name": "python",
   "nbconvert_exporter": "python",
   "pygments_lexer": "ipython3",
   "version": "3.12.6"
  }
 },
 "nbformat": 4,
 "nbformat_minor": 2
}
