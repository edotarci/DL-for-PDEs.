{
 "cells": [
  {
   "cell_type": "markdown",
   "metadata": {},
   "source": [
    "# PDEfind for dataset 3 using splines approximation\n"
   ]
  },
  {
   "cell_type": "code",
   "execution_count": 1,
   "metadata": {},
   "outputs": [],
   "source": [
    "import torch\n",
    "import numpy as np\n",
    "import matplotlib.pyplot as plt\n",
    "from aux_for_PDE_find import*\n",
    "\n",
    "torch.manual_seed(0)\n",
    "np.random.seed(0)"
   ]
  },
  {
   "cell_type": "markdown",
   "metadata": {},
   "source": [
    "## Dataset preparation"
   ]
  },
  {
   "cell_type": "code",
   "execution_count": 2,
   "metadata": {},
   "outputs": [
    {
     "name": "stdout",
     "output_type": "stream",
     "text": [
      "u: torch.Size([256, 256, 201])\n",
      "v: torch.Size([256, 256, 201])\n"
     ]
    }
   ],
   "source": [
    "path_train = \"PDEfind_data/3.npz\"\n",
    "data_npz = np.load(path_train)\n",
    "\n",
    "# Load the data from the .npz file\n",
    "u = torch.from_numpy(data_npz['u']).type(torch.float32)  # u field\n",
    "v = torch.from_numpy(data_npz['v']).type(torch.float32)  # v ield\n",
    "x = torch.from_numpy(data_npz['x']).type(torch.float32)  # Spatial variable\n",
    "y = torch.from_numpy(data_npz['y']).type(torch.float32)  # Spatial variable\n",
    "t = torch.from_numpy(data_npz['t']).type(torch.float32)  # Temporal variable\n",
    "\n",
    "print(\"u:\", u.shape)\n",
    "print(\"v:\", v.shape)"
   ]
  },
  {
   "cell_type": "markdown",
   "metadata": {},
   "source": [
    "# Build of $\\Theta$"
   ]
  },
  {
   "cell_type": "code",
   "execution_count": 3,
   "metadata": {},
   "outputs": [],
   "source": [
    "dt = t[0,0,1] - t[0,0,0]\n",
    "dx = x[1,0,0] - x[0,0,0]\n",
    "dy = y[0,1,0] - y[0,0,0]\n",
    "\n",
    "s = 0.01\n",
    "dudt = compute_time_derivative_spline(u, t, s).reshape(-1, 1)\n",
    "dvdt = compute_time_derivative_spline(v, t, s).reshape(-1, 1)\n",
    "\n",
    "# Compute space derivatives on u\n",
    "dudx = compute_space_derivative_x_spline(u, x, 1, s)\n",
    "dudx_2 = compute_space_derivative_x_spline(u, x, 2, s)\n",
    "dudx_3 = compute_space_derivative_x_spline(u, x, 3, s)\n",
    "dudy = compute_space_derivative_y_spline(u, y, 1, s)\n",
    "dudy_2 = compute_space_derivative_y_spline(u, y, 2, s)\n",
    "dudy_3 = compute_space_derivative_y_spline(u, y, 3, s)\n",
    "\n",
    "# Compute space derivatives on v\n",
    "dvdx = compute_space_derivative_x_spline(v, x, 1, s)\n",
    "dvdx_2 = compute_space_derivative_x_spline(v, x, 2, s)\n",
    "dvdx_3 = compute_space_derivative_x_spline(v, x, 3, s)\n",
    "dvdy = compute_space_derivative_y_spline(v, y, 1, s)\n",
    "dvdy_2 = compute_space_derivative_y_spline(v, y, 2, s)\n",
    "dvdy_3 = compute_space_derivative_y_spline(v, y, 3, s)\n",
    "\n",
    "#compute other terms\n",
    "u2 = torch.pow(u, 2)\n",
    "v2 = torch.pow(v, 2)\n",
    "u3 = torch.pow(u, 3)\n",
    "v3 = torch.pow(v, 3)\n",
    "\n",
    "#compute mixed terms for u and v\n",
    "u_times_dudx = torch.mul(u,dudx)\n",
    "u_times_dudy = torch.mul(u,dudy)\n",
    "u_times_dvdx = torch.mul(u,dvdx)\n",
    "u_times_dvdy = torch.mul(u,dvdy)\n",
    "\n",
    "v_times_dudx = torch.mul(v,dudx)\n",
    "v_times_dudy = torch.mul(v,dudy)\n",
    "v_times_dvdx = torch.mul(v,dvdx)\n",
    "v_times_dvdy = torch.mul(v,dvdy)\n",
    "\n",
    "#cross product\n",
    "u_times_v = torch.mul(u,v)\n",
    "u_times_v2 = torch.mul(u,v2)\n",
    "u2_times_v = torch.mul(u2,v)\n",
    "\n",
    "#compute bias\n",
    "bias = torch.ones_like(u)\n",
    "\n",
    "u = u.reshape(-1, 1)                # 0\n",
    "v = v.reshape(-1, 1)                # 1\n",
    "dudx = dudx.reshape(-1, 1)          # 2\n",
    "dudx_2 = dudx_2.reshape(-1, 1)      # 3\n",
    "dudx_3 = dudx_3.reshape(-1, 1)      # 4\n",
    "dudy = dudy.reshape(-1, 1)          # 5\n",
    "dudy_2 = dudy_2.reshape(-1, 1)      # 6\n",
    "dudy_3 = dudy_3.reshape(-1, 1)      # 7\n",
    "dvdx = dvdx.reshape(-1, 1)          # 8\n",
    "dvdx_2 = dvdx_2.reshape(-1, 1)      # 9\n",
    "dvdx_3 = dvdx_3.reshape(-1, 1)      # 10\n",
    "dvdy = dvdy.reshape(-1, 1)          # 11\n",
    "dvdy_2 = dvdy_2.reshape(-1, 1)      # 12\n",
    "dvdy_3 = dvdy_3.reshape(-1, 1)      # 13\n",
    "u2 = u2.reshape(-1, 1)              # 14\n",
    "v2 = v2.reshape(-1, 1)              # 15\n",
    "u3 = u3.reshape(-1, 1)              # 16\n",
    "v3 = v3.reshape(-1, 1)              # 17\n",
    "u_times_dudx = u_times_dudx.reshape(-1, 1)  # 18\n",
    "u_times_dudy = u_times_dudy.reshape(-1, 1)  # 19\n",
    "u_times_dvdx = u_times_dvdx.reshape(-1, 1)  # 20\n",
    "u_times_dvdy = u_times_dvdy.reshape(-1, 1)  # 21\n",
    "v_times_dudx = v_times_dudx.reshape(-1, 1)  # 22\n",
    "v_times_dudy = v_times_dudy.reshape(-1, 1)  # 23\n",
    "v_times_dvdx = v_times_dvdx.reshape(-1, 1)  # 24\n",
    "v_times_dvdy = v_times_dvdy.reshape(-1, 1)  # 25\n",
    "u_times_v = u_times_v.reshape(-1, 1)        # 26\n",
    "u_times_v2 = u_times_v2.reshape(-1, 1)      # 27\n",
    "u2_times_v = u2_times_v.reshape(-1, 1)      # 28\n",
    "bias = bias.reshape(-1, 1)                  # 29\n",
    "\n",
    "Theta = torch.cat([\n",
    "    u,                # 0\n",
    "    v,                # 1\n",
    "    dudx,             # 2\n",
    "    dudx_2,           # 3\n",
    "    dudx_3,           # 4\n",
    "    dudy,             # 5\n",
    "    dudy_2,           # 6\n",
    "    dudy_3,           # 7\n",
    "    dvdx,             # 8\n",
    "    dvdx_2,           # 9\n",
    "    dvdx_3,           # 10\n",
    "    dvdy,             # 11\n",
    "    dvdy_2,           # 12\n",
    "    dvdy_3,           # 13\n",
    "    u2,               # 14\n",
    "    v2,               # 15\n",
    "    u3,               # 16\n",
    "    v3,               # 17\n",
    "    u_times_dudx,     # 18\n",
    "    u_times_dudy,     # 19\n",
    "    u_times_dvdx,     # 20\n",
    "    u_times_dvdy,     # 21\n",
    "    v_times_dudx,     # 22\n",
    "    v_times_dudy,     # 23\n",
    "    v_times_dvdx,     # 24\n",
    "    v_times_dvdy,     # 25\n",
    "    u_times_v,        # 26\n",
    "    u_times_v2,       # 27\n",
    "    u2_times_v,       # 28\n",
    "    bias              # 29\n",
    "], dim=1)\n",
    "\n",
    "Theta_names = [\n",
    "    \"u\",                # 0\n",
    "    \"v\",                # 1\n",
    "    \"dudx\",             # 2\n",
    "    \"dudx_2\",           # 3\n",
    "    \"dudx_3\",           # 4\n",
    "    \"dudy\",             # 5\n",
    "    \"dudy_2\",           # 6\n",
    "    \"dudy_3\",           # 7\n",
    "    \"dvdx\",             # 8\n",
    "    \"dvdx_2\",           # 9\n",
    "    \"dvdx_3\",           # 10\n",
    "    \"dvdy\",             # 11\n",
    "    \"dvdy_2\",           # 12\n",
    "    \"dvdy_3\",           # 13\n",
    "    \"u2\",               # 14\n",
    "    \"v2\",               # 15\n",
    "    \"u3\",               # 16\n",
    "    \"v3\",               # 17\n",
    "    \"u_times_dudx\",     # 18\n",
    "    \"u_times_dudy\",     # 19\n",
    "    \"u_times_dvdx\",     # 20\n",
    "    \"u_times_dvdy\",     # 21\n",
    "    \"v_times_dudx\",     # 22\n",
    "    \"v_times_dudy\",     # 23\n",
    "    \"v_times_dvdx\",     # 24\n",
    "    \"v_times_dvdy\",     # 25\n",
    "    \"u_times_v\",        # 26\n",
    "    \"u_times_v2\",       # 27\n",
    "    \"u2_times_v\",       # 28\n",
    "    \"bias\"              # 29\n",
    "]\n"
   ]
  },
  {
   "cell_type": "markdown",
   "metadata": {},
   "source": [
    "## Regression and printing of the PDE for u"
   ]
  },
  {
   "cell_type": "code",
   "execution_count": 4,
   "metadata": {},
   "outputs": [
    {
     "name": "stdout",
     "output_type": "stream",
     "text": [
      "Regression # 1\n",
      "u  c=  0.4335963047083463\n",
      "v  c=  0.25399677703526563\n",
      "dudx_2  c=  0.05411800520672165\n",
      "dudy_2  c=  0.05862415600868938\n",
      "u3  c=  -0.4226214637519108\n",
      "v3  c=  0.6995418449519094\n",
      "u_times_v2  c=  -0.42592271269346926\n",
      "u2_times_v  c=  0.7467509662268719\n",
      "Mean Squared Error: 0.009117048512231956\n",
      "###################### end of regression 1 ##############################\n",
      "\n",
      "Regression # 2\n",
      "u  c=  0.4711683148441069\n",
      "v  c=  0.2906523015618657\n",
      "dudx_2  c=  0.05471948383214761\n",
      "dudy_2  c=  0.06151241029370771\n",
      "u3  c=  -0.4626559314785647\n",
      "v3  c=  0.6658143188974733\n",
      "u_times_v2  c=  -0.46590201810513365\n",
      "u2_times_v  c=  0.7130021459514004\n",
      "Mean Squared Error: 0.009099415253740563\n",
      "###################### end of regression 2 ##############################\n",
      "\n",
      "Regression # 3\n",
      "u  c=  0.4724511077320718\n",
      "v  c=  0.28978125007491495\n",
      "dudx_2  c=  0.054759153414186815\n",
      "dudy_2  c=  0.061555760763368356\n",
      "u3  c=  -0.4640301193056267\n",
      "v3  c=  0.6667805333971639\n",
      "u_times_v2  c=  -0.4672891201008902\n",
      "u2_times_v  c=  0.7139879133751321\n",
      "Mean Squared Error: 0.009099762262144232\n",
      "###################### end of regression 3 ##############################\n",
      "\n"
     ]
    }
   ],
   "source": [
    "#con 4 funziona\n",
    "np.random.seed(5)\n",
    "sample_size = int(1e5)\n",
    "random_indexes = np.random.choice(Theta.shape[0], sample_size, replace=False)\n",
    "alpha=[0.1, 0.1, 0.0]\n",
    "threshold=4\n",
    "selected_names, regression_coef_ = myregression2(Theta[random_indexes],dudt[random_indexes],Theta_names,threshold=threshold,alpha=alpha,test_size=0.2)"
   ]
  },
  {
   "cell_type": "code",
   "execution_count": 5,
   "metadata": {},
   "outputs": [
    {
     "name": "stdout",
     "output_type": "stream",
     "text": [
      "dudt = 0.4724511077320718 * u +\n",
      "       0.28978125007491495 * v +\n",
      "       0.054759153414186815 * dudx_2 +\n",
      "       0.061555760763368356 * dudy_2 +\n",
      "       -0.4640301193056267 * u3 +\n",
      "       0.6667805333971639 * v3 +\n",
      "       -0.4672891201008902 * u_times_v2 +\n",
      "       0.7139879133751321 * u2_times_v\n"
     ]
    }
   ],
   "source": [
    "printPDE_in_u(selected_names, regression_coef_)"
   ]
  },
  {
   "cell_type": "markdown",
   "metadata": {},
   "source": [
    "## Regression and printing of the PDE for v"
   ]
  },
  {
   "cell_type": "code",
   "execution_count": 8,
   "metadata": {},
   "outputs": [
    {
     "name": "stdout",
     "output_type": "stream",
     "text": [
      "Regression # 1\n",
      "u  c=  -0.317298699375697\n",
      "v  c=  0.40964624906477964\n",
      "dvdx_2  c=  0.05342777619916518\n",
      "dvdy_2  c=  0.05257019252615661\n",
      "u3  c=  -0.6321773762637733\n",
      "v3  c=  -0.3976196438563446\n",
      "u_times_dudx  c=  0.05560689457497049\n",
      "u_times_v2  c=  -0.6801586304784073\n",
      "u2_times_v  c=  -0.4080047364731373\n",
      "Mean Squared Error: 0.00851900867951945\n",
      "###################### end of regression 1 ##############################\n",
      "\n",
      "Regression # 2\n",
      "u  c=  -0.327280362888719\n",
      "v  c=  0.4269805601506839\n",
      "dvdx_2  c=  0.05406742575433361\n",
      "dvdy_2  c=  0.053776674383357474\n",
      "u3  c=  -0.6238962667734465\n",
      "v3  c=  -0.41607039810677093\n",
      "u_times_v2  c=  -0.6715453247955411\n",
      "u2_times_v  c=  -0.42640696185759974\n",
      "Mean Squared Error: 0.008289037173651724\n",
      "###################### end of regression 2 ##############################\n",
      "\n",
      "Regression # 3\n",
      "u  c=  -0.3211451021279569\n",
      "v  c=  0.43250866578581676\n",
      "dvdx_2  c=  0.0542231644247031\n",
      "dvdy_2  c=  0.05395135468333002\n",
      "u3  c=  -0.6306653289983557\n",
      "v3  c=  -0.4220141672560772\n",
      "u_times_v2  c=  -0.6785937888304798\n",
      "u2_times_v  c=  -0.43246577254362845\n",
      "Mean Squared Error: 0.008290079277236085\n",
      "###################### end of regression 3 ##############################\n",
      "\n"
     ]
    }
   ],
   "source": [
    "np.random.seed(3)\n",
    "sample_size = int(1e5)\n",
    "random_indexes = np.random.choice(Theta.shape[0], sample_size, replace=False)\n",
    "alpha=[0.1, 0.1, 0.0]\n",
    "threshold=4\n",
    "selected_names, regression_coef_ = myregression2(Theta[random_indexes],dvdt[random_indexes],Theta_names,threshold=threshold,alpha=alpha, test_size=0.2)"
   ]
  },
  {
   "cell_type": "code",
   "execution_count": 7,
   "metadata": {},
   "outputs": [
    {
     "name": "stdout",
     "output_type": "stream",
     "text": [
      "dvdt = -0.3211451021279569 * u +\n",
      "       0.43250866578581676 * v +\n",
      "       0.0542231644247031 * dvdx_2 +\n",
      "       0.05395135468333002 * dvdy_2 +\n",
      "       -0.6306653289983557 * u3 +\n",
      "       -0.4220141672560772 * v3 +\n",
      "       -0.6785937888304798 * u_times_v2 +\n",
      "       -0.43246577254362845 * u2_times_v\n"
     ]
    }
   ],
   "source": [
    "printPDE_in_v(selected_names, regression_coef_)"
   ]
  }
 ],
 "metadata": {
  "kernelspec": {
   "display_name": "Python 3",
   "language": "python",
   "name": "python3"
  },
  "language_info": {
   "codemirror_mode": {
    "name": "ipython",
    "version": 3
   },
   "file_extension": ".py",
   "mimetype": "text/x-python",
   "name": "python",
   "nbconvert_exporter": "python",
   "pygments_lexer": "ipython3",
   "version": "3.12.6"
  }
 },
 "nbformat": 4,
 "nbformat_minor": 2
}
